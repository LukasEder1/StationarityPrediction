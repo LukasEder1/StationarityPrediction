{
  "cells": [
    {
      "cell_type": "markdown",
      "metadata": {
        "id": "view-in-github",
        "colab_type": "text"
      },
      "source": [
        "<a href=\"https://colab.research.google.com/github/LukasEder1/StationarityPrediction/blob/main/LLMS/DeBERTa__Zero_Shot.ipynb\" target=\"_parent\"><img src=\"https://colab.research.google.com/assets/colab-badge.svg\" alt=\"Open In Colab\"/></a>"
      ]
    },
    {
      "cell_type": "code",
      "execution_count": null,
      "metadata": {
        "id": "NTWZQrklmzNV"
      },
      "outputs": [],
      "source": [
        "!git clone https://github.com/LukasEder1/StationarityPrediction.git\n",
        "!pip install datasets"
      ]
    },
    {
      "cell_type": "code",
      "execution_count": null,
      "metadata": {
        "id": "kBv7bs0InQxb"
      },
      "outputs": [],
      "source": [
        "import pandas as pd\n",
        "\n",
        "df = pd.read_csv(\"/content/StationarityPrediction/LLMS/clean_dataset_combined.csv\", delimiter=\";\")"
      ]
    },
    {
      "cell_type": "code",
      "execution_count": null,
      "metadata": {
        "id": "9kqe3pzktChT"
      },
      "outputs": [],
      "source": [
        "# Getting Rid of -1 Predicitions:\n",
        "mask = df['final_vote'] == -1\n",
        "\n",
        "# select all rows except the ones that contain 'Coca Cola'\n",
        "df = df[~mask]\n",
        "\n",
        "df = df.copy()\n",
        "# binarize the classification variable\n",
        "df.loc[:, \"final_vote\"]= df[\"final_vote\"].apply(lambda x: int(x != 0))"
      ]
    },
    {
      "cell_type": "code",
      "execution_count": null,
      "metadata": {
        "id": "2I61o-VytzwO"
      },
      "outputs": [],
      "source": [
        "df"
      ]
    },
    {
      "cell_type": "code",
      "execution_count": null,
      "metadata": {
        "id": "dxbNYW_QtVeB"
      },
      "outputs": [],
      "source": [
        "from sklearn.model_selection import train_test_split\n",
        "\n",
        "data = df[[\"text\", \"final_vote\"]].rename(columns={\"final_vote\": \"label\"})\n",
        "\n",
        "# Split Data into 80% train, 10% validation, 10% test\n",
        "train_data, test_val_data = train_test_split(data, test_size=0.2, random_state=12, stratify=data['label'])\n",
        "\n",
        "test_data, val_data = train_test_split(test_val_data, test_size=0.5, random_state=12, stratify=test_val_data['label'])\n",
        "\n",
        "print(f\"Training set: {len(train_data)}\")\n",
        "print(f\"Testing set: {len(test_data)}\")\n",
        "print(f\"Validation set: {len(val_data)}\")"
      ]
    },
    {
      "cell_type": "code",
      "execution_count": null,
      "metadata": {
        "id": "d1ScBWyanejN"
      },
      "outputs": [],
      "source": [
        "from tqdm.auto import tqdm\n",
        "from transformers import pipeline\n",
        "\n",
        "classifier = pipeline(\"zero-shot-classification\", model=\"MoritzLaurer/DeBERTa-v3-large-mnli-fever-anli-ling-wanli\")"
      ]
    },
    {
      "cell_type": "code",
      "execution_count": null,
      "metadata": {
        "id": "MVKlgjhHpCyi"
      },
      "outputs": [],
      "source": [
        "txts = test_data.text.values"
      ]
    },
    {
      "cell_type": "code",
      "execution_count": null,
      "metadata": {
        "id": "c7apwlrirVWu",
        "colab": {
          "base_uri": "https://localhost:8080/",
          "height": 34,
          "referenced_widgets": [
            "a5997378cdea4ed8903eb02f636732e4"
          ]
        },
        "outputId": "f84c55b3-5712-4f32-e7ec-6a0f2ec9c854"
      },
      "outputs": [
        {
          "data": {
            "application/vnd.jupyter.widget-view+json": {
              "model_id": "a5997378cdea4ed8903eb02f636732e4",
              "version_major": 2,
              "version_minor": 0
            },
            "text/plain": [
              "  0%|          | 0/288 [00:00<?, ?it/s]"
            ]
          },
          "metadata": {},
          "output_type": "display_data"
        }
      ],
      "source": [
        "candidate_labels = [\"time-insensitive\", \"time-sensitive\"]\n",
        "import numpy as np\n",
        "\n",
        "top_pred = []\n",
        "outputs = []\n",
        "for example in tqdm(txts):\n",
        "    out = classifier(example, candidate_labels, multi_label=False)\n",
        "    outputs.append(out)\n",
        "    top_pred.append(out[\"labels\"][0])"
      ]
    },
    {
      "cell_type": "code",
      "execution_count": null,
      "metadata": {
        "id": "BlwmjKu8sFw4"
      },
      "outputs": [],
      "source": [
        "def encode_labels(labels):\n",
        "  return [int(label == \"time-sensitive\") for label in labels]"
      ]
    },
    {
      "cell_type": "code",
      "execution_count": null,
      "metadata": {
        "id": "6riw9QVUrljC"
      },
      "outputs": [],
      "source": [
        "from sklearn.metrics import confusion_matrix, ConfusionMatrixDisplay\n",
        "import matplotlib.pyplot as plt\n",
        "\n",
        "labels = [\"stationary\",  \"time-sensitive\"]\n",
        "\n",
        "y_preds = encode_labels(top_pred)\n",
        "y_valid = test_data[\"label\"].values\n",
        "\n",
        "cm = confusion_matrix(y_preds, y_valid, labels=[0, 1])\n",
        "disp = ConfusionMatrixDisplay(confusion_matrix=cm,\n",
        "                              display_labels=labels)\n",
        "disp.plot()\n",
        "plt.show()"
      ]
    },
    {
      "cell_type": "code",
      "execution_count": null,
      "metadata": {
        "id": "73r4vMZXxyXZ"
      },
      "outputs": [],
      "source": []
    }
  ],
  "metadata": {
    "colab": {
      "provenance": [],
      "authorship_tag": "ABX9TyOgu9mQC2jUOXVwu4d8IPTj",
      "include_colab_link": true
    },
    "kernelspec": {
      "display_name": "Python 3",
      "name": "python3"
    },
    "language_info": {
      "name": "python"
    }
  },
  "nbformat": 4,
  "nbformat_minor": 0
}